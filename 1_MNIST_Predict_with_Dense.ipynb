{
  "nbformat": 4,
  "nbformat_minor": 0,
  "metadata": {
    "colab": {
      "name": "1. MNIST Predict with Dense.ipynb",
      "provenance": []
    },
    "kernelspec": {
      "name": "python3",
      "display_name": "Python 3"
    },
    "accelerator": "GPU"
  },
  "cells": [
    {
      "metadata": {
        "id": "l_ptIb6CEon5"
      },
      "cell_type": "code",
      "source": [
        "from keras.datasets import mnist\n",
        "from keras import models\n",
        "from keras import layers\n",
        "#from keras.utils import to_categorical\n",
        "from matplotlib import pyplot\n",
        "#from keras.utils import plot_model\n",
        "from IPython.display import Image\n",
        "import tensorflow as tf\n"
      ],
      "execution_count": 2,
      "outputs": []
    },
    {
      "cell_type": "code",
      "source": [
        "(trainX, trainY), (testX, testY) = mnist.load_data()"
      ],
      "metadata": {
        "id": "q3uRnyuXw8Ge",
        "outputId": "eba27d72-7bf7-4b08-a472-7a1a7297a218",
        "colab": {
          "base_uri": "https://localhost:8080/"
        }
      },
      "execution_count": 3,
      "outputs": [
        {
          "output_type": "stream",
          "name": "stdout",
          "text": [
            "Downloading data from https://storage.googleapis.com/tensorflow/tf-keras-datasets/mnist.npz\n",
            "11493376/11490434 [==============================] - 0s 0us/step\n",
            "11501568/11490434 [==============================] - 0s 0us/step\n"
          ]
        }
      ]
    },
    {
      "metadata": {
        "id": "OhDD1Wx1EtyT",
        "colab": {
          "base_uri": "https://localhost:8080/"
        },
        "outputId": "2081db91-a59c-40d0-e9c9-279d1bfa72a2"
      },
      "cell_type": "code",
      "source": [
        "#Step 1: Load the collected data, Visuvalize it\n",
        "\n",
        "(trainX, trainY), (testX, testY) = mnist.load_data()\n",
        "\n",
        "\n",
        "print('The type of object is ..')\n",
        "print(type(trainX))\n",
        "\n",
        "numberofTrainingsamples = trainX.shape[0]\n",
        "print(\"number of Training samples = \" + str(numberofTrainingsamples))\n",
        "\n",
        "print( \"Shape of trainX: \"+ str(trainX.shape) + \".   Shape of trainY\" + str( trainY.shape))\n",
        "print( \"Shape of testX: \"+ str(testX.shape) )\n",
        "\n",
        "\n",
        "print(\"number of Test samples = \" + str(testX.shape[0]))\n",
        "\n"
      ],
      "execution_count": 4,
      "outputs": [
        {
          "output_type": "stream",
          "name": "stdout",
          "text": [
            "The type of object is ..\n",
            "<class 'numpy.ndarray'>\n",
            "number of Training samples = 60000\n",
            "Shape of trainX: (60000, 28, 28).   Shape of trainY(60000,)\n",
            "Shape of testX: (10000, 28, 28)\n",
            "number of Test samples = 10000\n"
          ]
        }
      ]
    },
    {
      "metadata": {
        "id": "tqcmxJs4E_D9",
        "colab": {
          "base_uri": "https://localhost:8080/",
          "height": 1000
        },
        "outputId": "1532b416-1059-493b-abff-c6936b268c1b"
      },
      "cell_type": "code",
      "source": [
        "print(\"TrainY [76] is labels as = \" + str(trainY[76]))\n",
        "print(\"TrainX [76] is a image and looks like this...\")\n",
        "pyplot.imshow(trainX[76])\n",
        "pyplot.show()\n",
        "print(\"This is a 2 dimensional array and its value is\") \n",
        "print(trainX[76])\n",
        "print( \"Shape of this image is \"+ str(trainX[76].shape) )\n",
        "\n"
      ],
      "execution_count": 5,
      "outputs": [
        {
          "output_type": "stream",
          "name": "stdout",
          "text": [
            "TrainY [76] is labels as = 2\n",
            "TrainX [76] is a image and looks like this...\n"
          ]
        },
        {
          "output_type": "display_data",
          "data": {
            "image/png": "[encoded data removed]",
            "text/plain": [
              "<Figure size 432x288 with 1 Axes>"
            ]
          },
          "metadata": {
            "needs_background": "light"
          }
        },
        {
          "output_type": "stream",
          "name": "stdout",
          "text": [
            "This is a 2 dimensional array and its value is\n",
            "[[  0   0   0   0   0   0   0   0   0   0   0   0   0   0   0   0   0   0\n",
            "    0   0   0   0   0   0   0   0   0   0]\n",
            " [  0   0   0   0   0   0   0   0   0   0   0   0   0   0   0   0   0   0\n",
            "    0   0   0   0   0   0   0   0   0   0]\n",
            " [  0   0   0   0   0   0   0   0   0   0   0   0   0   0   0   0   0   0\n",
            "    0   0   0   0   0   0   0   0   0   0]\n",
            " [  0   0   0   0   0   0   0   0   0   0   0   0   0   0   0   0   0   0\n",
            "    0   0   0   0   0   0   0   0   0   0]\n",
            " [  0   0   0   0   0   0   0   0   0   0   0   0  34  80  80  80  58   0\n",
            "    0   0   0   0   0   0   0   0   0   0]\n",
            " [  0   0   0   0   0   0   0   0   0 138 159 159 199 254 254 254 228  66\n",
            "    0   0   0   0   0   0   0   0   0   0]\n",
            " [  0   0   0   0   0   0  39  62 160 252 254 254 254 254 233 233 254 245\n",
            "   67   0   0   0   0   0   0   0   0   0]\n",
            " [  0   0   0   0   0  45 212 254 254 254 186 114 114 114  74  75 251 254\n",
            "  201   0   0   0   0   0   0   0   0   0]\n",
            " [  0   0   0   0   0 233 254 244 210  58  18   0   0   0   0  30 249 254\n",
            "  201   0   0   0   0   0   0   0   0   0]\n",
            " [  0   0   0   0   0 131 131 100   0   0   0   0   0   0   0 168 254 254\n",
            "  201   0   0   0   0   0   0   0   0   0]\n",
            " [  0   0   0   0   0   0   0   0   0   0   0   0   0   0  71 237 254 254\n",
            "   61   0   0   0   0   0   0   0   0   0]\n",
            " [  0   0   0   0   0   0   0   0   0   0   0   0   0   4 157 254 254 192\n",
            "   15   0   0   0   0   0   0   0   0   0]\n",
            " [  0   0   0   0   0   0   0   0   0   0   0   0   4 140 254 254 203  29\n",
            "    0   0   0   0   0   0   0   0   0   0]\n",
            " [  0   0   0   0   0   0   0   0   0   0   0   0 107 254 254 254 123   0\n",
            "    0   0   0   0   0   0   0   0   0   0]\n",
            " [  0   0   0   0   0   0   0   0   0   0   0  18 204 254 196  87   3   0\n",
            "    0   0   0   0   0   0   0   0   0   0]\n",
            " [  0   0   0   0   0   0   0   0   0   0  35 212 254 252 121   0   0   0\n",
            "    0   0   0   0   0   0   0   0   0   0]\n",
            " [  0   0   0   0   0   0   0   0   0   0 124 254 192 101   0   0   0   0\n",
            "    0   0   0   0   0   0   0   0   0   0]\n",
            " [  0   0   0   0   0   0   0   0   0  77 242 249 118   0   0   0   0   0\n",
            "    0   0   0   0   0   0   0   0   0   0]\n",
            " [  0   0   0   0   0   0   0   0   0 221 254 228   0   0   0   0   0   0\n",
            "    0   0   0   0   0   0   0   0   0   0]\n",
            " [  0   0   0   0   0   0   0   0   0 196 254 250 124   0   0   0   0   0\n",
            "    0   0   0   0   0   0   0   0   0   0]\n",
            " [  0   0   0   0   0   0   0   0   0  45 254 254 196 116  76   0 112  48\n",
            "    0   0  16 116 116 116 116   0   0   0]\n",
            " [  0   0   0   0   0   0   0   0   0  11 154 254 254 254 234 194 253 219\n",
            "  194 194 203 254 241 237 237   0   0   0]\n",
            " [  0   0   0   0   0   0   0   0   0   0  77 157 198 254 254 254 254 254\n",
            "  254 254 173 157  38   0   0   0   0   0]\n",
            " [  0   0   0   0   0   0   0   0   0   0   0   0  33  78  78  78  78  78\n",
            "   78  78  13   0   0   0   0   0   0   0]\n",
            " [  0   0   0   0   0   0   0   0   0   0   0   0   0   0   0   0   0   0\n",
            "    0   0   0   0   0   0   0   0   0   0]\n",
            " [  0   0   0   0   0   0   0   0   0   0   0   0   0   0   0   0   0   0\n",
            "    0   0   0   0   0   0   0   0   0   0]\n",
            " [  0   0   0   0   0   0   0   0   0   0   0   0   0   0   0   0   0   0\n",
            "    0   0   0   0   0   0   0   0   0   0]\n",
            " [  0   0   0   0   0   0   0   0   0   0   0   0   0   0   0   0   0   0\n",
            "    0   0   0   0   0   0   0   0   0   0]]\n",
            "Shape of this image is (28, 28)\n"
          ]
        }
      ]
    },
    {
      "metadata": {
        "id": "CpHaNznyHwYd",
        "colab": {
          "base_uri": "https://localhost:8080/"
        },
        "outputId": "fd9db8b8-6e0c-445a-dce1-2981923f5d52"
      },
      "cell_type": "code",
      "source": [
        "#Step 2: Prepare the data (vectorize, reshape, normalize, OHE)\n",
        "\n",
        "print(\"trainY: \"+ str(trainY[2]))\n",
        "trainYready = tf.keras.utils.to_categorical(trainY)\n",
        "print(\"trainYOHE: \"+ str(trainYready[2]))\n",
        "testYready = tf.keras.utils.to_categorical(testY)\n",
        "\n"
      ],
      "execution_count": 6,
      "outputs": [
        {
          "output_type": "stream",
          "name": "stdout",
          "text": [
            "trainY: 4\n",
            "trainYOHE: [0. 0. 0. 0. 1. 0. 0. 0. 0. 0.]\n"
          ]
        }
      ]
    },
    {
      "metadata": {
        "id": "KKzam6YSKIb5"
      },
      "cell_type": "code",
      "source": [
        "\n",
        "trainXnormalized =  trainX.astype('float32') / 255\n",
        "\n",
        "testXnormalized = testX.astype('float32')/ 255"
      ],
      "execution_count": 7,
      "outputs": []
    },
    {
      "metadata": {
        "id": "pcaALZqmICjB",
        "colab": {
          "base_uri": "https://localhost:8080/",
          "height": 1000
        },
        "outputId": "0bc8f430-3220-40fc-9824-17907ed735b8"
      },
      "cell_type": "code",
      "source": [
        "print(\"trainXnormalized [1000] is a image and looks like this...\")\n",
        "pyplot.imshow(trainXnormalized[1000])\n",
        "pyplot.show()\n",
        "print( \"Shape of this image is \"+ str(trainXnormalized[1000].shape) )\n",
        "print(\"This is a 2 dimensional array and its value is\") \n",
        "print(trainXnormalized[1000])\n",
        "\n"
      ],
      "execution_count": 8,
      "outputs": [
        {
          "output_type": "stream",
          "name": "stdout",
          "text": [
            "trainXnormalized [1000] is a image and looks like this...\n"
          ]
        },
        {
          "output_type": "display_data",
          "data": {
            "image/png": "[encoded data removed]",
            "text/plain": [
              "<Figure size 432x288 with 1 Axes>"
            ]
          },
          "metadata": {
            "needs_background": "light"
          }
        },
        {
          "output_type": "stream",
          "name": "stdout",
          "text": [
            "Shape of this image is (28, 28)\n",
            "This is a 2 dimensional array and its value is\n",
            "[[0.         0.         0.         0.         0.         0.\n",
            "  0.         0.         0.         0.         0.         0.\n",
            "  0.         0.         0.         0.         0.         0.\n",
            "  0.         0.         0.         0.         0.         0.\n",
            "  0.         0.         0.         0.        ]\n",
            " [0.         0.         0.         0.         0.         0.\n",
            "  0.         0.         0.         0.         0.         0.\n",
            "  0.         0.         0.         0.         0.         0.\n",
            "  0.         0.         0.         0.         0.         0.\n",
            "  0.         0.         0.         0.        ]\n",
            " [0.         0.         0.         0.         0.         0.\n",
            "  0.         0.         0.         0.         0.         0.\n",
            "  0.         0.         0.         0.         0.         0.\n",
            "  0.         0.         0.         0.         0.         0.\n",
            "  0.         0.         0.         0.        ]\n",
            " [0.         0.         0.         0.         0.         0.\n",
            "  0.         0.         0.         0.         0.         0.\n",
            "  0.         0.         0.         0.         0.         0.\n",
            "  0.         0.         0.         0.         0.         0.\n",
            "  0.         0.         0.         0.        ]\n",
            " [0.         0.         0.         0.         0.         0.\n",
            "  0.         0.         0.         0.         0.         0.\n",
            "  0.         0.         0.         0.         0.         0.\n",
            "  0.         0.         0.         0.         0.         0.\n",
            "  0.         0.         0.         0.        ]\n",
            " [0.         0.         0.         0.         0.         0.\n",
            "  0.         0.         0.         0.         0.         0.\n",
            "  0.         0.         0.14117648 0.57254905 0.99607843 1.\n",
            "  0.9843137  0.37254903 0.02352941 0.         0.         0.\n",
            "  0.         0.         0.         0.        ]\n",
            " [0.         0.         0.         0.         0.         0.\n",
            "  0.         0.         0.         0.         0.         0.\n",
            "  0.01176471 0.38039216 0.91764706 0.99607843 0.99607843 0.9098039\n",
            "  0.99607843 0.99607843 0.13725491 0.         0.         0.\n",
            "  0.         0.         0.         0.        ]\n",
            " [0.         0.         0.         0.         0.         0.\n",
            "  0.         0.         0.         0.         0.         0.34901962\n",
            "  0.54901963 0.99607843 0.99607843 0.68235296 0.2627451  0.12941177\n",
            "  0.78431374 0.99607843 0.74509805 0.         0.         0.\n",
            "  0.         0.         0.         0.        ]\n",
            " [0.         0.         0.         0.         0.         0.\n",
            "  0.         0.         0.         0.         0.42352942 0.99215686\n",
            "  0.99607843 0.92156863 0.2        0.00392157 0.         0.\n",
            "  0.04705882 0.99607843 0.99215686 0.21960784 0.         0.\n",
            "  0.         0.         0.         0.        ]\n",
            " [0.         0.         0.         0.         0.         0.\n",
            "  0.         0.         0.         0.04705882 0.84705883 0.99607843\n",
            "  0.95686275 0.21568628 0.         0.         0.         0.\n",
            "  0.02352941 0.8352941  0.99607843 0.22352941 0.         0.\n",
            "  0.         0.         0.         0.        ]\n",
            " [0.         0.         0.         0.         0.         0.\n",
            "  0.         0.         0.         0.09803922 0.99607843 0.99607843\n",
            "  0.5176471  0.         0.         0.         0.         0.\n",
            "  0.         0.65882355 0.99607843 0.22352941 0.         0.\n",
            "  0.         0.         0.         0.        ]\n",
            " [0.         0.         0.         0.         0.         0.\n",
            "  0.         0.         0.         0.1764706  0.99607843 0.9529412\n",
            "  0.13333334 0.         0.         0.         0.         0.\n",
            "  0.         0.65882355 0.99607843 0.22352941 0.         0.\n",
            "  0.         0.         0.         0.        ]\n",
            " [0.         0.         0.         0.         0.         0.\n",
            "  0.         0.         0.         0.5019608  0.99607843 0.6156863\n",
            "  0.         0.         0.         0.         0.         0.\n",
            "  0.         0.65882355 0.99607843 0.22352941 0.         0.\n",
            "  0.         0.         0.         0.        ]\n",
            " [0.         0.         0.         0.         0.         0.\n",
            "  0.         0.         0.07450981 0.89411765 0.99607843 0.4117647\n",
            "  0.         0.         0.         0.         0.         0.\n",
            "  0.02745098 0.89411765 0.99607843 0.22352941 0.         0.\n",
            "  0.         0.         0.         0.        ]\n",
            " [0.         0.         0.         0.         0.         0.\n",
            "  0.         0.         0.22745098 0.99607843 0.99607843 0.34117648\n",
            "  0.         0.         0.         0.         0.         0.\n",
            "  0.03921569 0.99607843 0.9647059  0.18431373 0.         0.\n",
            "  0.         0.         0.         0.        ]\n",
            " [0.         0.         0.         0.         0.         0.\n",
            "  0.         0.         0.22745098 0.99607843 0.99607843 0.03529412\n",
            "  0.         0.         0.         0.         0.         0.\n",
            "  0.03921569 0.99607843 0.8235294  0.         0.         0.\n",
            "  0.         0.         0.         0.        ]\n",
            " [0.         0.         0.         0.         0.         0.\n",
            "  0.         0.         0.22745098 0.99607843 0.99607843 0.03529412\n",
            "  0.         0.         0.         0.         0.         0.\n",
            "  0.4117647  0.99607843 0.35686275 0.         0.         0.\n",
            "  0.         0.         0.         0.        ]\n",
            " [0.         0.         0.         0.         0.         0.\n",
            "  0.         0.         0.01960784 0.85882354 0.99607843 0.03529412\n",
            "  0.         0.         0.         0.         0.         0.09411765\n",
            "  0.9019608  0.99607843 0.09411765 0.         0.         0.\n",
            "  0.         0.         0.         0.        ]\n",
            " [0.         0.         0.         0.         0.         0.\n",
            "  0.         0.         0.         0.84705883 0.99607843 0.03529412\n",
            "  0.         0.         0.         0.         0.         0.32941177\n",
            "  0.99607843 0.9843137  0.09019608 0.         0.         0.\n",
            "  0.         0.         0.         0.        ]\n",
            " [0.         0.         0.         0.         0.         0.\n",
            "  0.         0.         0.         0.84705883 0.99607843 0.14117648\n",
            "  0.         0.         0.         0.         0.08627451 0.8156863\n",
            "  0.9843137  0.36862746 0.         0.         0.         0.\n",
            "  0.         0.         0.         0.        ]\n",
            " [0.         0.         0.         0.         0.         0.\n",
            "  0.         0.         0.         0.5058824  0.99607843 0.47058824\n",
            "  0.         0.         0.         0.01176471 0.54901963 0.99607843\n",
            "  0.8980392  0.         0.         0.         0.         0.\n",
            "  0.         0.         0.         0.        ]\n",
            " [0.         0.         0.         0.         0.         0.\n",
            "  0.         0.         0.         0.3254902  0.99607843 0.87058824\n",
            "  0.06666667 0.         0.         0.35686275 0.99607843 0.9254902\n",
            "  0.20784314 0.         0.         0.         0.         0.\n",
            "  0.         0.         0.         0.        ]\n",
            " [0.         0.         0.         0.         0.         0.\n",
            "  0.         0.         0.         0.07058824 0.92156863 0.99607843\n",
            "  0.5254902  0.08235294 0.46666667 0.92941177 0.99607843 0.4862745\n",
            "  0.         0.         0.         0.         0.         0.\n",
            "  0.         0.         0.         0.        ]\n",
            " [0.         0.         0.         0.         0.         0.\n",
            "  0.         0.         0.         0.         0.20784314 0.9764706\n",
            "  0.99607843 0.91764706 0.9882353  0.99607843 0.6745098  0.01176471\n",
            "  0.         0.         0.         0.         0.         0.\n",
            "  0.         0.         0.         0.        ]\n",
            " [0.         0.         0.         0.         0.         0.\n",
            "  0.         0.         0.         0.         0.         0.45490196\n",
            "  0.92941177 0.99607843 0.99607843 0.52156866 0.07843138 0.\n",
            "  0.         0.         0.         0.         0.         0.\n",
            "  0.         0.         0.         0.        ]\n",
            " [0.         0.         0.         0.         0.         0.\n",
            "  0.         0.         0.         0.         0.         0.\n",
            "  0.         0.         0.         0.         0.         0.\n",
            "  0.         0.         0.         0.         0.         0.\n",
            "  0.         0.         0.         0.        ]\n",
            " [0.         0.         0.         0.         0.         0.\n",
            "  0.         0.         0.         0.         0.         0.\n",
            "  0.         0.         0.         0.         0.         0.\n",
            "  0.         0.         0.         0.         0.         0.\n",
            "  0.         0.         0.         0.        ]\n",
            " [0.         0.         0.         0.         0.         0.\n",
            "  0.         0.         0.         0.         0.         0.\n",
            "  0.         0.         0.         0.         0.         0.\n",
            "  0.         0.         0.         0.         0.         0.\n",
            "  0.         0.         0.         0.        ]]\n"
          ]
        }
      ]
    },
    {
      "metadata": {
        "id": "YHtEsnhlIwfk",
        "colab": {
          "base_uri": "https://localhost:8080/"
        },
        "outputId": "53ecb06c-5f76-4b17-fda5-37dbf4e10f64"
      },
      "cell_type": "code",
      "source": [
        "print(\"Shape of trainXnormalized[0] is \"+ str(trainXnormalized.shape[0]))\n",
        "\n",
        "\n",
        "print( \"\\n Shape of trainXnormalized is \"+ str(trainXnormalized.shape) )\n",
        "\n",
        "trainXready = trainXnormalized.reshape( trainXnormalized.shape[0], 28*28 )\n",
        "\n",
        "testXready = testXnormalized.reshape( testXnormalized.shape[0], 28*28 )\n",
        "\n",
        "print( \" Shape of trainXready is      \"+ str(trainXready.shape) )\n",
        "\n",
        "\n",
        "\n"
      ],
      "execution_count": 9,
      "outputs": [
        {
          "output_type": "stream",
          "name": "stdout",
          "text": [
            "Shape of trainXnormalized[0] is 60000\n",
            "\n",
            " Shape of trainXnormalized is (60000, 28, 28)\n",
            " Shape of trainXready is      (60000, 784)\n"
          ]
        }
      ]
    },
    {
      "metadata": {
        "id": "5f5enbzldCZi"
      },
      "cell_type": "markdown",
      "source": [
        "# Define the network architecture\n",
        "\n",
        "\n",
        "\n",
        "\n",
        "\n"
      ]
    },
    {
      "metadata": {
        "id": "4y-n-9slLLJg"
      },
      "cell_type": "code",
      "source": [
        "#Step 3: Define the network architecture\n",
        "model = models.Sequential(name='model')\n",
        "layer1 = layers.Dense(512, input_shape=(28*28,), activation='relu')\n",
        "model.add(layer1)\n",
        "layer2 = layers.Dense(128, activation='relu')\n",
        "model.add(layer2)\n",
        "layer3 = layers.Dense(10, activation='softmax')\n",
        "model.add(layer3)\n"
      ],
      "execution_count": 45,
      "outputs": []
    },
    {
      "metadata": {
        "id": "BW4OW6RHLQhv",
        "colab": {
          "base_uri": "https://localhost:8080/"
        },
        "outputId": "24a8abb5-07a6-4fff-ad2d-08cd94433ed2"
      },
      "cell_type": "code",
      "source": [
        "model.summary()"
      ],
      "execution_count": 13,
      "outputs": [
        {
          "output_type": "stream",
          "name": "stdout",
          "text": [
            "Model: \"model\"\n",
            "_________________________________________________________________\n",
            " Layer (type)                Output Shape              Param #   \n",
            "=================================================================\n",
            " dense_3 (Dense)             (None, 512)               401920    \n",
            "                                                                 \n",
            " dense_4 (Dense)             (None, 128)               65664     \n",
            "                                                                 \n",
            " dense_5 (Dense)             (None, 10)                1290      \n",
            "                                                                 \n",
            "=================================================================\n",
            "Total params: 468,874\n",
            "Trainable params: 468,874\n",
            "Non-trainable params: 0\n",
            "_________________________________________________________________\n"
          ]
        }
      ]
    },
    {
      "metadata": {
        "id": "cKWqPm6ldVTe"
      },
      "cell_type": "markdown",
      "source": [
        "# Choose the loss funtion"
      ]
    },
    {
      "metadata": {
        "id": "fsrdAyo5QoGY"
      },
      "cell_type": "code",
      "source": [
        "model.compile(optimizer='adam', loss='categorical_crossentropy', metrics=['accuracy'])\n"
      ],
      "execution_count": 46,
      "outputs": []
    },
    {
      "metadata": {
        "id": "gHHI14JJdmVx"
      },
      "cell_type": "markdown",
      "source": [
        "#Train the network"
      ]
    },
    {
      "metadata": {
        "id": "Jd21BCvUQrrr",
        "colab": {
          "base_uri": "https://localhost:8080/"
        },
        "outputId": "03b26198-c030-42b5-cd44-3a7d153b6e3c"
      },
      "cell_type": "code",
      "source": [
        "\n",
        "history=model.fit( trainXready, trainYready, batch_size=32, epochs=10)\n"
      ],
      "execution_count": 47,
      "outputs": [
        {
          "output_type": "stream",
          "name": "stdout",
          "text": [
            "Epoch 1/10\n",
            "1875/1875 [==============================] - 7s 4ms/step - loss: 0.1910 - accuracy: 0.9421\n",
            "Epoch 2/10\n",
            "1875/1875 [==============================] - 7s 4ms/step - loss: 0.0798 - accuracy: 0.9751\n",
            "Epoch 3/10\n",
            "1875/1875 [==============================] - 7s 3ms/step - loss: 0.0549 - accuracy: 0.9825\n",
            "Epoch 4/10\n",
            "1875/1875 [==============================] - 7s 4ms/step - loss: 0.0391 - accuracy: 0.9872\n",
            "Epoch 5/10\n",
            "1875/1875 [==============================] - 7s 4ms/step - loss: 0.0308 - accuracy: 0.9903\n",
            "Epoch 6/10\n",
            "1875/1875 [==============================] - 7s 3ms/step - loss: 0.0265 - accuracy: 0.9911\n",
            "Epoch 7/10\n",
            "1875/1875 [==============================] - 7s 3ms/step - loss: 0.0219 - accuracy: 0.9932\n",
            "Epoch 8/10\n",
            "1875/1875 [==============================] - 7s 3ms/step - loss: 0.0202 - accuracy: 0.9934\n",
            "Epoch 9/10\n",
            "1875/1875 [==============================] - 7s 4ms/step - loss: 0.0199 - accuracy: 0.9940\n",
            "Epoch 10/10\n",
            "1875/1875 [==============================] - 7s 3ms/step - loss: 0.0143 - accuracy: 0.9952\n"
          ]
        }
      ]
    },
    {
      "metadata": {
        "id": "JgbZ34bwQwDw",
        "colab": {
          "base_uri": "https://localhost:8080/"
        },
        "outputId": "6b871a80-b1dd-4e7f-8274-71573ed54b35"
      },
      "cell_type": "code",
      "source": [
        "#Evaluate the network\n",
        "metrics_test_loss, metrics_test_accuracy = model.evaluate(testXready, testYready)\n",
        "\n",
        "print(\" Loss on test data is: \" + str(metrics_test_loss))\n",
        "print(\" Accuracy of my nerual network on test data in percentage is : \" + str(metrics_test_accuracy* 100))\n",
        "\n"
      ],
      "execution_count": 49,
      "outputs": [
        {
          "output_type": "stream",
          "name": "stdout",
          "text": [
            "313/313 [==============================] - 1s 3ms/step - loss: 0.0977 - accuracy: 0.9812\n",
            " Loss on test data is: 0.09765718132257462\n",
            " Accuracy of my nerual network on test data in percentage is : 98.11999797821045\n"
          ]
        }
      ]
    },
    {
      "metadata": {
        "id": "tBuUVJrUeJFu"
      },
      "cell_type": "markdown",
      "source": [
        "# Predict what class a image belongs to"
      ]
    },
    {
      "metadata": {
        "id": "AfHQG05NRc0J",
        "colab": {
          "base_uri": "https://localhost:8080/",
          "height": 300
        },
        "outputId": "768f0f24-4b95-47b6-c1c9-51bb6e7d1b1f"
      },
      "cell_type": "code",
      "source": [
        "import numpy as np\n",
        "\n",
        "#Step 7: Predict\n",
        "\n",
        "\n",
        "predictedResults = model.predict(testXready[1:2])\n",
        "\n",
        "predictedclass = predictedResults.argmax()\n",
        "print(\"Predicited class is : \" + str(predictedclass))\n",
        "\n",
        "print(\"My nerual network predicts the below image as : \" + str(predictedclass))\n",
        "\n",
        "\n",
        "pyplot.imshow(testX[1])\n",
        "pyplot.show()\n"
      ],
      "execution_count": 51,
      "outputs": [
        {
          "output_type": "stream",
          "name": "stdout",
          "text": [
            "Predicited class is : 2\n",
            "My nerual network predicts the below image as : 2\n"
          ]
        },
        {
          "output_type": "display_data",
          "data": {
            "image/png": "[encoded data removed]",
            "text/plain": [
              "<Figure size 432x288 with 1 Axes>"
            ]
          },
          "metadata": {
            "needs_background": "light"
          }
        }
      ]
    },
    {
      "metadata": {
        "id": "MYNZN55BTgD6",
        "colab": {
          "base_uri": "https://localhost:8080/",
          "height": 295
        },
        "outputId": "5ab63cff-6db9-40a9-f01f-19575943a7af"
      },
      "cell_type": "code",
      "source": [
        "import matplotlib.pyplot as plt\n",
        "\n",
        "plt.plot(history.history['accuracy'])\n",
        "plt.title('Model accuracy')\n",
        "plt.ylabel('Accuracy')\n",
        "plt.xlabel('Epoch')\n",
        "plt.legend(['Train'], loc='upper left')\n",
        "plt.show()"
      ],
      "execution_count": 52,
      "outputs": [
        {
          "output_type": "display_data",
          "data": {
            "image/png": "[encoded data removed]",
            "text/plain": [
              "<Figure size 432x288 with 1 Axes>"
            ]
          },
          "metadata": {
            "needs_background": "light"
          }
        }
      ]
    },
    {
      "metadata": {
        "id": "iquI2z5JT_as",
        "colab": {
          "base_uri": "https://localhost:8080/",
          "height": 295
        },
        "outputId": "9ac11b79-127a-45d5-e1d3-c2b497af5e33"
      },
      "cell_type": "code",
      "source": [
        "# Plot training & validation loss values\n",
        "plt.plot(history.history['loss'])\n",
        "plt.title('Model loss')\n",
        "plt.ylabel('Loss')\n",
        "plt.xlabel('Epoch')\n",
        "plt.legend(['Train'], loc='upper left')\n",
        "plt.show()"
      ],
      "execution_count": 53,
      "outputs": [
        {
          "output_type": "display_data",
          "data": {
            "image/png": "[encoded data removed]",
            "text/plain": [
              "<Figure size 432x288 with 1 Axes>"
            ]
          },
          "metadata": {
            "needs_background": "light"
          }
        }
      ]
    }
  ]
}